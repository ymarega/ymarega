{
  "nbformat": 4,
  "nbformat_minor": 0,
  "metadata": {
    "colab": {
      "provenance": [],
      "authorship_tag": "ABX9TyPcgzjdOOA8sJs0mdl2K5Fd",
      "include_colab_link": true
    },
    "kernelspec": {
      "name": "python3",
      "display_name": "Python 3"
    },
    "language_info": {
      "name": "python"
    }
  },
  "cells": [
    {
      "cell_type": "markdown",
      "metadata": {
        "id": "view-in-github",
        "colab_type": "text"
      },
      "source": [
        "<a href=\"https://colab.research.google.com/github/ymarega/ymarega/blob/main/Optimisation_Hyper_Param.ipynb\" target=\"_parent\"><img src=\"https://colab.research.google.com/assets/colab-badge.svg\" alt=\"Open In Colab\"/></a>"
      ]
    },
    {
      "cell_type": "code",
      "execution_count": 2,
      "metadata": {
        "id": "gou6z3_9cJQN"
      },
      "outputs": [],
      "source": [
        "#!pip install tensorflow==2.12.0"
      ]
    },
    {
      "cell_type": "code",
      "source": [
        "import pandas as pd\n",
        "import tensorflow as tf\n",
        "import numpy as np\n",
        "from keras.wrappers.scikit_learn import KerasRegressor\n",
        "from sklearn.model_selection import GridSearchCV\n",
        "from sklearn.metrics import make_scorer, mean_squared_error\n",
        "import numpy as np\n",
        "from tensorflow.keras.models import Sequential\n",
        "from tensorflow.keras.layers import LSTM, Dense\n",
        "from tensorflow.keras.wrappers.scikit_learn import KerasRegressor\n",
        "from sklearn.model_selection import GridSearchCV\n",
        "from sklearn.preprocessing import StandardScaler, RobustScaler, MinMaxScaler"
      ],
      "metadata": {
        "id": "J0gUD6DVci8H"
      },
      "execution_count": 27,
      "outputs": []
    },
    {
      "cell_type": "code",
      "source": [
        "def features_creation(df,variable):\n",
        "\n",
        "    df_copy = df.copy()\n",
        "\n",
        "    # Les colonnes de Jour J\n",
        "    df_copy['V0_t-1'] = df_copy[variable].shift(1)\n",
        "    df_copy['V0_t-2'] = df_copy[variable].shift(2)\n",
        "    df_copy['V0_t-3'] = df_copy[variable].shift(3)\n",
        "\n",
        "    # Les colonnes de Jour J-1\n",
        "    df_copy['V-1_t+2'] = df_copy[variable].shift(4*24-2)\n",
        "    df_copy['V-1_t+1'] = df_copy[variable].shift(4*24-1)\n",
        "    df_copy['V-1_t']   = df_copy[variable].shift(4*24)\n",
        "    df_copy['V-1_t-1'] = df_copy[variable].shift(4*24+1)\n",
        "    df_copy['V-1_t-2'] = df_copy[variable].shift(4*24+2)\n",
        "\n",
        "    # Les colonnes de Jour J-2\n",
        "    df_copy['V-2_t+2'] = df_copy[variable].shift(4*24*2-2)\n",
        "    df_copy['V-2_t+1'] = df_copy[variable].shift(4*24*2-1)\n",
        "    df_copy['V-2_t']   = df_copy[variable].shift(4*24*2)\n",
        "    df_copy['V-2_t-1'] = df_copy[variable].shift(4*24*2+1)\n",
        "    df_copy['V-2_t-2'] = df_copy[variable].shift(4*24*2+2)\n",
        "    #df_copy.filter(regex='Q|d|t')\n",
        "\n",
        "    return df_copy\n",
        "\n",
        "\n",
        "def remplissage_arriere_simple(df, variable):\n",
        "\n",
        "    df_sans_na = df[variable].bfill()\n",
        "\n",
        "    return pd.DataFrame(df_sans_na)"
      ],
      "metadata": {
        "id": "t7-uOP5ncQE4"
      },
      "execution_count": 20,
      "outputs": []
    },
    {
      "cell_type": "code",
      "source": [
        "debit_dist_p_stesp = pd.read_csv('https://www.dropbox.com/scl/fi/m7l231zeufqp5ybq0u8t0/debit_dist_p_stesp_2019-08-01_08-10-05_2023-12-31_23-59-50_gran10S.csv?rlkey=meedygqbvcossdw4scszx50ic&dl=1')\n",
        "debit_dist_p_stesp = debit_dist_p_stesp.rename(columns={'debit_stesprit': 'debit_dist_stesp'})\n"
      ],
      "metadata": {
        "id": "dAHzGfi2cezs"
      },
      "execution_count": 13,
      "outputs": []
    },
    {
      "cell_type": "code",
      "source": [
        "df_debit_dist_p_stesp_filtrer = debit_dist_p_stesp.copy()\n",
        "\n",
        "###---Mettre les debits superieurs a 80 a NA (On les consideres comme aberrantes, irréalistes dans les conditions normales)\n",
        "df_debit_dist_p_stesp_filtrer.loc[df_debit_dist_p_stesp_filtrer['debit_dist_stesp'] > 80, 'debit_dist_stesp'] = np.nan\n",
        "\n",
        "# Conversion de la colonne 'Date' au format datetime\n",
        "df_debit_dist_p_stesp_filtrer['Date'] = pd.to_datetime(df_debit_dist_p_stesp_filtrer['Date'])\n",
        "\n",
        "# Rééchantillonnage à un pas de 15 minutes et calcul de la moyenne\n",
        "df_debit_dist_p_stesp_15mn = df_debit_dist_p_stesp_filtrer.set_index('Date').resample('15T').mean()"
      ],
      "metadata": {
        "id": "igeyE45Fdvap"
      },
      "execution_count": 16,
      "outputs": []
    },
    {
      "cell_type": "code",
      "source": [
        "\n",
        "\n",
        "df = df_debit_dist_p_stesp_15mn.copy().tail(500)\n",
        "variable = 'debit_dist_stesp'\n",
        "scaler = MinMaxScaler()\n",
        "fonction_imputation = remplissage_arriere_simple\n",
        "\n",
        "# Création des features et normalisation\n",
        "df_sans_na = fonction_imputation(df, variable)\n",
        "df_trans = features_creation(df_sans_na, variable).dropna()\n",
        "\n",
        "# Séparation du jeu de données en entraînement et test\n",
        "train_size_ratio = 0.75\n",
        "train_size = int(train_size_ratio * len(df_trans))\n",
        "train, test = df_trans[:train_size], df_trans[train_size:]\n",
        "\n",
        "# Séparation des variables explicatives et de la cible\n",
        "X_train, y_train = train.drop(variable, axis=1), train[variable]\n",
        "X_test, y_test = test.drop(variable, axis=1), test[variable]\n",
        "\n",
        "\n",
        "X_train_scaled = scaler.fit_transform(X_train)\n",
        "X_test_scaled = scaler.transform(X_test)\n",
        "\n",
        "# Redimensionnement pour le modèle LSTM\n",
        "X_train_reshaped = X_train_scaled.reshape((X_train.shape[0], 1, X_train.shape[1]))\n",
        "X_test_reshaped = X_test_scaled.reshape((X_test.shape[0], 1, X_test.shape[1]))\n",
        "\n",
        "def create_model(units=50, activation='relu', optimizer='adam'):\n",
        "    model = Sequential()\n",
        "    model.add(LSTM(units, activation=activation, return_sequences=True, input_shape=(1, X_train.shape[1])))\n",
        "    model.add(LSTM(units, activation=activation, return_sequences=True))\n",
        "    model.add(LSTM(units, activation=activation))\n",
        "    model.add(Dense(1))\n",
        "    model.compile(optimizer=optimizer, loss='mse')\n",
        "    return model\n",
        "\n",
        "\n",
        "model = KerasRegressor(build_fn=create_model, verbose=0)\n",
        "\n",
        "param_grid = {\n",
        "    'units': [5, 7],  # Test avec différentes unités pour les couches\n",
        "    'activation': ['relu'],  # Test de différentes fonctions d'activation\n",
        "    'optimizer': ['adam' ],  # Test de différents optimiseurs\n",
        "    'epochs': [3],  # Test de différents nombres d'époques\n",
        "    'batch_size': [1]  # Test de différentes tailles de lots\n",
        "}\n",
        "\n",
        "# Scorer qui calcule le RMSE négatif, car GridSearchCV maximise le score\n",
        "rmse_scorer = make_scorer(lambda y_true, y_pred: np.sqrt(mean_squared_error(y_true, y_pred)), greater_is_better=False)\n",
        "\n",
        "grid = GridSearchCV(estimator=model, param_grid=param_grid, scoring=rmse_scorer, n_jobs=-1, cv=3)\n",
        "\n",
        "grid_result = grid.fit(X_train_reshaped, y_train)\n",
        "\n",
        "# Affichage des meilleurs paramètres et de la meilleure performance (RMSE)\n",
        "print(\"Meilleur RMSE: %f en utilisant %s\" % (-grid_result.best_score_, grid_result.best_params_))\n",
        "\n",
        "# Pour évaluer le modèle sur les données de test, utilisez le meilleur modèle trouvé\n",
        "best_model = grid_result.best_estimator_\n",
        "y_pred = best_model.predict(X_test_reshaped)\n",
        "test_rmse = np.sqrt(mean_squared_error(y_test, y_pred))\n",
        "print(\"RMSE sur les données de test: %f\" % test_rmse)\n",
        "\n"
      ],
      "metadata": {
        "colab": {
          "base_uri": "https://localhost:8080/"
        },
        "id": "RtgmcRWwd14c",
        "outputId": "7a31a546-95c1-47ff-cd63-c84d09794a23"
      },
      "execution_count": 26,
      "outputs": [
        {
          "output_type": "stream",
          "name": "stderr",
          "text": [
            "<ipython-input-26-6c70d040e3e9>:42: DeprecationWarning: KerasRegressor is deprecated, use Sci-Keras (https://github.com/adriangb/scikeras) instead. See https://www.adriangb.com/scikeras/stable/migration.html for help migrating.\n",
            "  model = KerasRegressor(build_fn=create_model, verbose=0)\n"
          ]
        },
        {
          "output_type": "stream",
          "name": "stdout",
          "text": [
            "Meilleur RMSE: 3.675418 en utilisant {'activation': 'relu', 'batch_size': 1, 'epochs': 3, 'optimizer': 'adam', 'units': 7}\n",
            "RMSE sur les données de test: 2.587830\n"
          ]
        }
      ]
    },
    {
      "cell_type": "code",
      "source": [],
      "metadata": {
        "id": "_3rUjXk1cf02"
      },
      "execution_count": null,
      "outputs": []
    }
  ]
}